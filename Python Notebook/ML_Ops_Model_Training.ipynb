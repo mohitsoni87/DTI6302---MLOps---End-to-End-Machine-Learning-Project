{
  "nbformat": 4,
  "nbformat_minor": 0,
  "metadata": {
    "colab": {
      "provenance": []
    },
    "kernelspec": {
      "name": "python3",
      "display_name": "Python 3"
    },
    "language_info": {
      "name": "python"
    }
  },
  "cells": [
    {
      "cell_type": "markdown",
      "source": [
        "**Installs**"
      ],
      "metadata": {
        "id": "gCFX5_8XeaPF"
      }
    },
    {
      "cell_type": "code",
      "source": [
        "pip install keras-tuner"
      ],
      "metadata": {
        "colab": {
          "base_uri": "https://localhost:8080/"
        },
        "id": "qlwN8CXxwO7W",
        "outputId": "49f70964-dd2d-494b-fff5-bb360641d48e"
      },
      "execution_count": 1,
      "outputs": [
        {
          "output_type": "stream",
          "name": "stdout",
          "text": [
            "Collecting keras-tuner\n",
            "  Downloading keras_tuner-1.4.7-py3-none-any.whl (129 kB)\n",
            "\u001b[2K     \u001b[90m━━━━━━━━━━━━━━━━━━━━━━━━━━━━━━━━━━━━━━━━\u001b[0m \u001b[32m129.1/129.1 kB\u001b[0m \u001b[31m1.9 MB/s\u001b[0m eta \u001b[36m0:00:00\u001b[0m\n",
            "\u001b[?25hRequirement already satisfied: keras in /usr/local/lib/python3.10/dist-packages (from keras-tuner) (2.15.0)\n",
            "Requirement already satisfied: packaging in /usr/local/lib/python3.10/dist-packages (from keras-tuner) (24.1)\n",
            "Requirement already satisfied: requests in /usr/local/lib/python3.10/dist-packages (from keras-tuner) (2.31.0)\n",
            "Collecting kt-legacy (from keras-tuner)\n",
            "  Downloading kt_legacy-1.0.5-py3-none-any.whl (9.6 kB)\n",
            "Requirement already satisfied: charset-normalizer<4,>=2 in /usr/local/lib/python3.10/dist-packages (from requests->keras-tuner) (3.3.2)\n",
            "Requirement already satisfied: idna<4,>=2.5 in /usr/local/lib/python3.10/dist-packages (from requests->keras-tuner) (3.7)\n",
            "Requirement already satisfied: urllib3<3,>=1.21.1 in /usr/local/lib/python3.10/dist-packages (from requests->keras-tuner) (2.0.7)\n",
            "Requirement already satisfied: certifi>=2017.4.17 in /usr/local/lib/python3.10/dist-packages (from requests->keras-tuner) (2024.6.2)\n",
            "Installing collected packages: kt-legacy, keras-tuner\n",
            "Successfully installed keras-tuner-1.4.7 kt-legacy-1.0.5\n"
          ]
        }
      ]
    },
    {
      "cell_type": "code",
      "source": [
        "%load_ext tensorboard"
      ],
      "metadata": {
        "id": "txRorWo2K9jk"
      },
      "execution_count": 2,
      "outputs": []
    },
    {
      "cell_type": "markdown",
      "source": [
        "**Imports**"
      ],
      "metadata": {
        "id": "kRNgt6hhWB8v"
      }
    },
    {
      "cell_type": "code",
      "execution_count": 3,
      "metadata": {
        "id": "TftIyLqDWDqJ",
        "colab": {
          "base_uri": "https://localhost:8080/"
        },
        "outputId": "854c61e1-fac7-4bed-ba8a-0de0099e062f"
      },
      "outputs": [
        {
          "output_type": "stream",
          "name": "stderr",
          "text": [
            "<ipython-input-3-76f30b46ddba>:5: DeprecationWarning: `import kerastuner` is deprecated, please use `import keras_tuner`.\n",
            "  from kerastuner.tuners import Hyperband\n"
          ]
        }
      ],
      "source": [
        "import tensorflow as tf\n",
        "from tensorflow.keras.datasets import fashion_mnist\n",
        "from tensorflow.keras.utils import to_categorical\n",
        "from tensorflow.keras.callbacks import TensorBoard\n",
        "from kerastuner.tuners import Hyperband\n",
        "from kerastuner.tuners import BayesianOptimization"
      ]
    },
    {
      "cell_type": "markdown",
      "source": [
        "**Load dataset**"
      ],
      "metadata": {
        "id": "Fzakwfy7eir-"
      }
    },
    {
      "cell_type": "code",
      "source": [
        "# Load the Fashion MNIST dataset\n",
        "(x_train, y_train), (x_test, y_test) = fashion_mnist.load_data()"
      ],
      "metadata": {
        "id": "ydjage43WS9f",
        "colab": {
          "base_uri": "https://localhost:8080/"
        },
        "outputId": "388a6291-aca8-4e6f-84cc-e93a384b34ce"
      },
      "execution_count": 4,
      "outputs": [
        {
          "output_type": "stream",
          "name": "stdout",
          "text": [
            "Downloading data from https://storage.googleapis.com/tensorflow/tf-keras-datasets/train-labels-idx1-ubyte.gz\n",
            "29515/29515 [==============================] - 0s 0us/step\n",
            "Downloading data from https://storage.googleapis.com/tensorflow/tf-keras-datasets/train-images-idx3-ubyte.gz\n",
            "26421880/26421880 [==============================] - 0s 0us/step\n",
            "Downloading data from https://storage.googleapis.com/tensorflow/tf-keras-datasets/t10k-labels-idx1-ubyte.gz\n",
            "5148/5148 [==============================] - 0s 0us/step\n",
            "Downloading data from https://storage.googleapis.com/tensorflow/tf-keras-datasets/t10k-images-idx3-ubyte.gz\n",
            "4422102/4422102 [==============================] - 0s 0us/step\n"
          ]
        }
      ]
    },
    {
      "cell_type": "markdown",
      "source": [
        "**Pre-process data**"
      ],
      "metadata": {
        "id": "ueuh0kB7epBV"
      }
    },
    {
      "cell_type": "code",
      "source": [
        "# Preprocess the data\n",
        "x_train = x_train.reshape(-1, 28, 28, 1).astype('float32') / 255.0\n",
        "x_test = x_test.reshape(-1, 28, 28, 1).astype('float32') / 255.0\n",
        "y_train = to_categorical(y_train, 10)\n",
        "y_test = to_categorical(y_test, 10)"
      ],
      "metadata": {
        "id": "Ta58aaMsWZSx"
      },
      "execution_count": 5,
      "outputs": []
    },
    {
      "cell_type": "markdown",
      "source": [
        "**Set Constants**"
      ],
      "metadata": {
        "id": "duQuSmsMWHuJ"
      }
    },
    {
      "cell_type": "code",
      "source": [
        "# Constants\n",
        "input_shape = (28, 28, 1)\n",
        "batch_size = 128\n",
        "epochs = 5\n",
        "cnn_log_dir = \"./logs/cnn\"\n",
        "fnn_log_dir = \"./logs/fnn\""
      ],
      "metadata": {
        "id": "jWcvYAb7wiVj"
      },
      "execution_count": 6,
      "outputs": []
    },
    {
      "cell_type": "code",
      "source": [
        "# TensorBoard callback\n",
        "tensorboard_cnn_callback = TensorBoard(log_dir=cnn_log_dir, histogram_freq=1)\n",
        "tensorboard_fnn_callback = TensorBoard(log_dir=fnn_log_dir, histogram_freq=1)"
      ],
      "metadata": {
        "id": "l4YTFtAYwlPl"
      },
      "execution_count": 7,
      "outputs": []
    },
    {
      "cell_type": "markdown",
      "source": [
        "**Define Model Builders**"
      ],
      "metadata": {
        "id": "NZHH2aIJWMns"
      }
    },
    {
      "cell_type": "code",
      "source": [
        "# Define model builder functions\n",
        "def build_simple_cnn(hp):\n",
        "    model = tf.keras.models.Sequential()\n",
        "    model.add(tf.keras.layers.Conv2D(filters=hp.Int('conv1_filters', min_value=32, max_value=128, step=16),\n",
        "                                     kernel_size=hp.Choice('conv1_kernel', values=[3, 5]),\n",
        "                                     activation='relu',\n",
        "                                     input_shape=input_shape))\n",
        "    model.add(tf.keras.layers.MaxPooling2D(pool_size=(2, 2)))\n",
        "    model.add(tf.keras.layers.Flatten())\n",
        "    model.add(tf.keras.layers.Dense(units=hp.Int('dense_units', min_value=64, max_value=256, step=32), activation='relu'))\n",
        "    model.add(tf.keras.layers.Dense(10, activation='softmax'))\n",
        "\n",
        "    model.compile(optimizer=tf.keras.optimizers.Adam(hp.Choice('learning_rate', values=[1e-2, 1e-3])),\n",
        "                  loss='categorical_crossentropy',\n",
        "                  metrics=['accuracy'])\n",
        "    return model\n",
        "\n",
        "def build_feedforward_nn(hp):\n",
        "    model = tf.keras.models.Sequential()\n",
        "    model.add(tf.keras.layers.Flatten(input_shape=input_shape))\n",
        "    model.add(tf.keras.layers.Dense(units=hp.Int('dense_units', min_value=256, max_value=1024, step=128), activation='relu'))\n",
        "    model.add(tf.keras.layers.Dropout(rate=hp.Float('dropout_rate', min_value=0.2, max_value=0.5, step=0.1)))\n",
        "    model.add(tf.keras.layers.Dense(10, activation='softmax'))\n",
        "\n",
        "    model.compile(optimizer=tf.keras.optimizers.Adam(hp.Choice('learning_rate', values=[1e-2, 1e-3])),\n",
        "                  loss='categorical_crossentropy',\n",
        "                  metrics=['accuracy'])\n",
        "    return model"
      ],
      "metadata": {
        "id": "bos-q2AswnxZ"
      },
      "execution_count": 8,
      "outputs": []
    },
    {
      "cell_type": "markdown",
      "source": [
        "**Using Bayesian Optimizer Tuner to determine Optimal Hyperpameters**"
      ],
      "metadata": {
        "id": "M1vPkaQVWVjq"
      }
    },
    {
      "cell_type": "markdown",
      "source": [
        "**CNN**"
      ],
      "metadata": {
        "id": "ZWSnWTybWf23"
      }
    },
    {
      "cell_type": "code",
      "source": [
        "bayesian_cnn_tuner = BayesianOptimization(\n",
        "    build_simple_cnn,\n",
        "    objective='val_accuracy',\n",
        "    max_trials=5,\n",
        "    directory='bayesian_optimization_logs',\n",
        "    project_name='bayesian_optimization'\n",
        ")"
      ],
      "metadata": {
        "id": "P37VHuF6IEs5"
      },
      "execution_count": 9,
      "outputs": []
    },
    {
      "cell_type": "code",
      "source": [
        "bayesian_cnn_tuner.search(x=x_train, y=y_train, epochs=epochs, batch_size=batch_size, validation_data=(x_test, y_test),\n",
        "                        callbacks=[tensorboard_cnn_callback])"
      ],
      "metadata": {
        "colab": {
          "base_uri": "https://localhost:8080/"
        },
        "id": "oQ4b_TKZIqTn",
        "outputId": "45a43dac-bb07-4314-83ba-8c2eb8620c81"
      },
      "execution_count": null,
      "outputs": [
        {
          "output_type": "stream",
          "name": "stdout",
          "text": [
            "Trial 3 Complete [00h 06m 10s]\n",
            "val_accuracy: 0.8992999792098999\n",
            "\n",
            "Best val_accuracy So Far: 0.90829998254776\n",
            "Total elapsed time: 00h 17m 48s\n",
            "\n",
            "Search: Running Trial #4\n",
            "\n",
            "Value             |Best Value So Far |Hyperparameter\n",
            "112               |128               |conv1_filters\n",
            "3                 |3                 |conv1_kernel\n",
            "224               |64                |dense_units\n",
            "0.001             |0.001             |learning_rate\n",
            "\n",
            "Epoch 1/5\n",
            "469/469 [==============================] - 138s 292ms/step - loss: 0.4001 - accuracy: 0.8597 - val_loss: 0.3206 - val_accuracy: 0.8865\n",
            "Epoch 2/5\n",
            "469/469 [==============================] - 122s 260ms/step - loss: 0.2699 - accuracy: 0.9026 - val_loss: 0.2868 - val_accuracy: 0.8965\n",
            "Epoch 3/5\n",
            "410/469 [=========================>....] - ETA: 14s - loss: 0.2290 - accuracy: 0.9167"
          ]
        }
      ]
    },
    {
      "cell_type": "markdown",
      "source": [
        "**CNN TensorBoard Logs**"
      ],
      "metadata": {
        "id": "jdQRo_ZpWrKh"
      }
    },
    {
      "cell_type": "code",
      "source": [
        "%tensorboard --logdir logs/cnn"
      ],
      "metadata": {
        "id": "XWJlIUVOSD3G"
      },
      "execution_count": null,
      "outputs": []
    },
    {
      "cell_type": "markdown",
      "source": [
        "**CNN Best Model Details**"
      ],
      "metadata": {
        "id": "ptr8drcDWpnk"
      }
    },
    {
      "cell_type": "code",
      "source": [
        "best_cnn_hps = bayesian_cnn_tuner.get_best_hyperparameters(num_trials=1)[0]\n",
        "print(best_cnn_hps.values)"
      ],
      "metadata": {
        "id": "6jH7vWEpTE-j"
      },
      "execution_count": null,
      "outputs": []
    },
    {
      "cell_type": "code",
      "source": [
        "simple_cnn_best_model = bayesian_cnn_tuner.get_best_models(num_models=1)[0]\n",
        "simple_cnn_eval = simple_cnn_best_model.evaluate(x_test, y_test)\n",
        "print(simple_cnn_eval[1])"
      ],
      "metadata": {
        "id": "p07-APbxTWjy"
      },
      "execution_count": null,
      "outputs": []
    },
    {
      "cell_type": "markdown",
      "source": [
        "**FNN**"
      ],
      "metadata": {
        "id": "H3TDLCzOW4Nn"
      }
    },
    {
      "cell_type": "code",
      "source": [
        "bayesian_fnn_tuner = BayesianOptimization(\n",
        "    build_feedforward_nn,\n",
        "    objective='val_accuracy',\n",
        "    max_trials=5,\n",
        "    directory='bayesian_optimization_fnn_logs',\n",
        "    project_name='bayesian_optimization'\n",
        ")"
      ],
      "metadata": {
        "id": "jiZCStYZM1GT"
      },
      "execution_count": null,
      "outputs": []
    },
    {
      "cell_type": "code",
      "source": [
        "bayesian_fnn_tuner.search(x=x_train, y=y_train, epochs=epochs, batch_size=batch_size, validation_data=(x_test, y_test),\n",
        "                        callbacks=[tensorboard_fnn_callback])"
      ],
      "metadata": {
        "id": "MrLoAjZIM6n_"
      },
      "execution_count": null,
      "outputs": []
    },
    {
      "cell_type": "markdown",
      "source": [
        "**FNN TensorBoard Logs**"
      ],
      "metadata": {
        "id": "fIhTDdH_XE1v"
      }
    },
    {
      "cell_type": "code",
      "source": [
        "%tensorboard --logdir logs/fnn"
      ],
      "metadata": {
        "id": "hdvDaUkYXDFt"
      },
      "execution_count": null,
      "outputs": []
    },
    {
      "cell_type": "markdown",
      "source": [
        "**FNN Best Model Details**"
      ],
      "metadata": {
        "id": "6eqCCAyfXL1y"
      }
    },
    {
      "cell_type": "code",
      "source": [
        "best_fnn_hps = bayesian_fnn_tuner.get_best_hyperparameters(num_trials=1)[0]\n",
        "print(best_fnn_hps.values)"
      ],
      "metadata": {
        "id": "sDD0fDOMUDF-"
      },
      "execution_count": null,
      "outputs": []
    },
    {
      "cell_type": "code",
      "source": [
        "feedforward_nn_best_model = bayesian_fnn_tuner.get_best_models(num_models=1)[0]\n",
        "feedforward_nn_eval = feedforward_nn_best_model.evaluate(x_test, y_test)\n",
        "print(feedforward_nn_eval[1])"
      ],
      "metadata": {
        "id": "yZu47GTDUGAq"
      },
      "execution_count": null,
      "outputs": []
    },
    {
      "cell_type": "markdown",
      "source": [
        "**Model Comparison for Optimal Model**"
      ],
      "metadata": {
        "id": "Pks57ho9XU2r"
      }
    },
    {
      "cell_type": "code",
      "source": [
        "# Determine and save the better model\n",
        "if simple_cnn_eval[1] > feedforward_nn_eval[1]:  # comparing validation accuracy (index 1)\n",
        "    better_model = simple_cnn_best_model\n",
        "    model_name = \"simple_cnn\"\n",
        "else:\n",
        "    better_model = feedforward_nn_best_model\n",
        "    model_name = \"feedforward_nn\"\n"
      ],
      "metadata": {
        "id": "kkQnHJWHUVU_"
      },
      "execution_count": null,
      "outputs": []
    },
    {
      "cell_type": "markdown",
      "source": [
        "**Save Best Model**"
      ],
      "metadata": {
        "id": "LCc66LhFXcCT"
      }
    },
    {
      "cell_type": "code",
      "source": [
        "# Save the better model\n",
        "better_model.save(f'best_{model_name}_fashion_mnist_model')"
      ],
      "metadata": {
        "id": "fKn4PqeSVT9e"
      },
      "execution_count": null,
      "outputs": []
    },
    {
      "cell_type": "code",
      "source": [],
      "metadata": {
        "id": "UAn1pmHdX_ub"
      },
      "execution_count": null,
      "outputs": []
    }
  ]
}